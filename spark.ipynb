{
 "metadata": {
  "language_info": {
   "codemirror_mode": {
    "name": "ipython",
    "version": 3
   },
   "file_extension": ".py",
   "mimetype": "text/x-python",
   "name": "python",
   "nbconvert_exporter": "python",
   "pygments_lexer": "ipython3",
   "version": "3.7.3-final"
  },
  "orig_nbformat": 2,
  "kernelspec": {
   "name": "python37364bitnlpvirtualenva8ae157c16b348dbbe9ce98870f12218",
   "display_name": "Python 3.7.3 64-bit ('nlp': virtualenv)"
  }
 },
 "nbformat": 4,
 "nbformat_minor": 2,
 "cells": [
  {
   "source": [
    "## Machine Learning menggunakan Spark ML\n",
    "\n",
    "\n",
    "Muhammad Zha'farudin Pudya Wardana\n",
    "\n",
    "19/448717/PPA/05800"
   ],
   "cell_type": "markdown",
   "metadata": {}
  },
  {
   "cell_type": "code",
   "execution_count": 1,
   "metadata": {},
   "outputs": [],
   "source": [
    "from pyspark import SparkConf, SparkContext\n",
    "from pyspark.sql import SparkSession\n",
    "from pyspark.sql.types import DoubleType"
   ]
  },
  {
   "cell_type": "code",
   "execution_count": 2,
   "metadata": {},
   "outputs": [],
   "source": [
    "# Create the session and Context\n",
    "conf = (\n",
    "    SparkConf()\n",
    "        .setMaster(\"local[*]\")\n",
    "        .setAppName(\"FashionMNIST SparkML\")\n",
    "        .set(\"spark.ui.port\", \"4050\")\n",
    "        .set('spark.executor.memory', '4G')\n",
    "        .set('spark.driver.memory', '45G')\n",
    "        .set('spark.driver.maxResultSize', '10G')\n",
    ")\n",
    "sc = SparkContext(conf=conf)\n",
    "spark = SparkSession.builder.getOrCreate()"
   ]
  },
  {
   "cell_type": "code",
   "execution_count": 3,
   "metadata": {},
   "outputs": [
    {
     "output_type": "execute_result",
     "data": {
      "text/plain": "<SparkContext master=local[*] appName=FashionMNIST SparkML>",
      "text/html": "\n        <div>\n            <p><b>SparkContext</b></p>\n\n            <p><a href=\"http://192.168.100.12:4050\">Spark UI</a></p>\n\n            <dl>\n              <dt>Version</dt>\n                <dd><code>v3.0.0</code></dd>\n              <dt>Master</dt>\n                <dd><code>local[*]</code></dd>\n              <dt>AppName</dt>\n                <dd><code>FashionMNIST SparkML</code></dd>\n            </dl>\n        </div>\n        "
     },
     "metadata": {},
     "execution_count": 3
    }
   ],
   "source": [
    "sc"
   ]
  },
  {
   "cell_type": "code",
   "execution_count": 4,
   "metadata": {},
   "outputs": [
    {
     "output_type": "execute_result",
     "data": {
      "text/plain": "<pyspark.sql.session.SparkSession at 0x10db6c828>",
      "text/html": "\n            <div>\n                <p><b>SparkSession - in-memory</b></p>\n                \n        <div>\n            <p><b>SparkContext</b></p>\n\n            <p><a href=\"http://192.168.100.12:4050\">Spark UI</a></p>\n\n            <dl>\n              <dt>Version</dt>\n                <dd><code>v3.0.0</code></dd>\n              <dt>Master</dt>\n                <dd><code>local[*]</code></dd>\n              <dt>AppName</dt>\n                <dd><code>FashionMNIST SparkML</code></dd>\n            </dl>\n        </div>\n        \n            </div>\n        "
     },
     "metadata": {},
     "execution_count": 4
    }
   ],
   "source": [
    "spark"
   ]
  },
  {
   "source": [
    "## Dataset\n",
    "\n",
    "From https://www.kaggle.com/zalando-research/fashionmnist\n",
    "\n",
    "Labels\n",
    "\n",
    "- 0 T-shirt/top\n",
    "- 1 Trouser\n",
    "- 2 Pullover\n",
    "- 3 Dress\n",
    "- 4 Coat\n",
    "- 5 Sandal\n",
    "- 6 Shirt\n",
    "- 7 Sneaker\n",
    "-  8 Bag\n",
    "- 9 Ankle boot\n",
    "\n",
    "\n",
    "TL;DR\n",
    "\n",
    "- Each row is a separate image\n",
    "- Column 1 is the class label.\n",
    "- Remaining columns are pixel numbers (784 total).\n",
    "- Each value is the darkness of the pixel (1 to 255)\n",
    "\n",
    "Size of dataset\n",
    "- fashion-mnist_train ~ 126 MB\n",
    "- fashion-mnist_test ~ 21.15 MB "
   ],
   "cell_type": "markdown",
   "metadata": {}
  },
  {
   "cell_type": "code",
   "execution_count": 5,
   "metadata": {},
   "outputs": [],
   "source": [
    "df = spark.read.csv(\"data/fashion-mnist_train.csv\", header=True, inferSchema=True)\n",
    "df_test = spark.read.csv(\"data/fashion-mnist_test.csv\", header=True, inferSchema=True)"
   ]
  },
  {
   "cell_type": "code",
   "execution_count": 6,
   "metadata": {
    "tags": []
   },
   "outputs": [
    {
     "output_type": "stream",
     "name": "stdout",
     "text": "+-----+-----+\n|label|count|\n+-----+-----+\n|    1| 6000|\n|    6| 6000|\n|    3| 6000|\n|    5| 6000|\n|    9| 6000|\n|    4| 6000|\n|    8| 6000|\n|    7| 6000|\n|    2| 6000|\n|    0| 6000|\n+-----+-----+\n\n"
    }
   ],
   "source": [
    "df.groupBy(\"label\").count().show()"
   ]
  },
  {
   "cell_type": "code",
   "execution_count": 7,
   "metadata": {
    "tags": []
   },
   "outputs": [
    {
     "output_type": "stream",
     "name": "stdout",
     "text": "+-----+-----+\n|label|count|\n+-----+-----+\n|    1| 1000|\n|    6| 1000|\n|    3| 1000|\n|    5| 1000|\n|    9| 1000|\n|    4| 1000|\n|    8| 1000|\n|    7| 1000|\n|    2| 1000|\n|    0| 1000|\n+-----+-----+\n\n"
    }
   ],
   "source": [
    "df_test.groupBy(\"label\").count().show()"
   ]
  },
  {
   "cell_type": "code",
   "execution_count": 8,
   "metadata": {},
   "outputs": [
    {
     "output_type": "execute_result",
     "data": {
      "text/plain": "Row(label=2, pixel1=0, pixel2=0, pixel3=0, pixel4=0, pixel5=0, pixel6=0, pixel7=0, pixel8=0, pixel9=0, pixel10=0, pixel11=0, pixel12=0, pixel13=0, pixel14=0, pixel15=0, pixel16=0, pixel17=0, pixel18=0, pixel19=0, pixel20=0, pixel21=0, pixel22=0, pixel23=0, pixel24=0, pixel25=0, pixel26=0, pixel27=0, pixel28=0, pixel29=0, pixel30=0, pixel31=0, pixel32=0, pixel33=0, pixel34=0, pixel35=0, pixel36=0, pixel37=0, pixel38=0, pixel39=0, pixel40=0, pixel41=0, pixel42=0, pixel43=0, pixel44=0, pixel45=0, pixel46=0, pixel47=0, pixel48=0, pixel49=0, pixel50=0, pixel51=0, pixel52=0, pixel53=0, pixel54=0, pixel55=0, pixel56=0, pixel57=0, pixel58=0, pixel59=0, pixel60=0, pixel61=0, pixel62=0, pixel63=0, pixel64=0, pixel65=0, pixel66=0, pixel67=0, pixel68=0, pixel69=0, pixel70=0, pixel71=0, pixel72=0, pixel73=0, pixel74=0, pixel75=0, pixel76=0, pixel77=0, pixel78=0, pixel79=0, pixel80=0, pixel81=0, pixel82=0, pixel83=0, pixel84=0, pixel85=0, pixel86=0, pixel87=0, pixel88=0, pixel89=4, pixel90=0, pixel91=0, pixel92=0, pixel93=0, pixel94=0, pixel95=62, pixel96=61, pixel97=21, pixel98=29, pixel99=23, pixel100=51, pixel101=136, pixel102=61, pixel103=0, pixel104=0, pixel105=0, pixel106=0, pixel107=0, pixel108=0, pixel109=0, pixel110=0, pixel111=0, pixel112=0, pixel113=0, pixel114=0, pixel115=0, pixel116=0, pixel117=0, pixel118=0, pixel119=0, pixel120=88, pixel121=201, pixel122=228, pixel123=225, pixel124=255, pixel125=115, pixel126=62, pixel127=137, pixel128=255, pixel129=235, pixel130=222, pixel131=255, pixel132=135, pixel133=0, pixel134=0, pixel135=0, pixel136=0, pixel137=0, pixel138=0, pixel139=0, pixel140=0, pixel141=0, pixel142=0, pixel143=0, pixel144=0, pixel145=0, pixel146=47, pixel147=252, pixel148=234, pixel149=238, pixel150=224, pixel151=215, pixel152=215, pixel153=229, pixel154=108, pixel155=180, pixel156=207, pixel157=214, pixel158=224, pixel159=231, pixel160=249, pixel161=254, pixel162=45, pixel163=0, pixel164=0, pixel165=0, pixel166=0, pixel167=0, pixel168=0, pixel169=0, pixel170=0, pixel171=1, pixel172=0, pixel173=0, pixel174=214, pixel175=222, pixel176=210, pixel177=213, pixel178=224, pixel179=225, pixel180=217, pixel181=220, pixel182=254, pixel183=233, pixel184=219, pixel185=221, pixel186=217, pixel187=223, pixel188=221, pixel189=240, pixel190=254, pixel191=0, pixel192=0, pixel193=1, pixel194=0, pixel195=0, pixel196=0, pixel197=1, pixel198=0, pixel199=0, pixel200=0, pixel201=128, pixel202=237, pixel203=207, pixel204=224, pixel205=224, pixel206=207, pixel207=216, pixel208=214, pixel209=210, pixel210=208, pixel211=211, pixel212=221, pixel213=208, pixel214=219, pixel215=213, pixel216=226, pixel217=211, pixel218=237, pixel219=150, pixel220=0, pixel221=0, pixel222=0, pixel223=0, pixel224=0, pixel225=0, pixel226=2, pixel227=0, pixel228=0, pixel229=237, pixel230=222, pixel231=215, pixel232=207, pixel233=210, pixel234=212, pixel235=213, pixel236=206, pixel237=214, pixel238=213, pixel239=214, pixel240=213, pixel241=210, pixel242=215, pixel243=214, pixel244=206, pixel245=199, pixel246=218, pixel247=255, pixel248=13, pixel249=0, pixel250=2, pixel251=0, pixel252=0, pixel253=0, pixel254=4, pixel255=0, pixel256=85, pixel257=228, pixel258=210, pixel259=218, pixel260=200, pixel261=211, pixel262=208, pixel263=203, pixel264=215, pixel265=210, pixel266=209, pixel267=209, pixel268=210, pixel269=213, pixel270=211, pixel271=210, pixel272=217, pixel273=206, pixel274=213, pixel275=231, pixel276=175, pixel277=0, pixel278=0, pixel279=0, pixel280=0, pixel281=0, pixel282=0, pixel283=0, pixel284=217, pixel285=224, pixel286=215, pixel287=206, pixel288=205, pixel289=204, pixel290=217, pixel291=230, pixel292=222, pixel293=215, pixel294=224, pixel295=233, pixel296=228, pixel297=232, pixel298=228, pixel299=224, pixel300=207, pixel301=212, pixel302=215, pixel303=213, pixel304=229, pixel305=31, pixel306=0, pixel307=4, pixel308=0, pixel309=1, pixel310=0, pixel311=21, pixel312=225, pixel313=212, pixel314=212, pixel315=203, pixel316=211, pixel317=225, pixel318=193, pixel319=139, pixel320=136, pixel321=195, pixel322=147, pixel323=156, pixel324=139, pixel325=128, pixel326=162, pixel327=197, pixel328=223, pixel329=207, pixel330=220, pixel331=213, pixel332=232, pixel333=177, pixel334=0, pixel335=0, pixel336=0, pixel337=0, pixel338=0, pixel339=123, pixel340=226, pixel341=207, pixel342=211, pixel343=209, pixel344=205, pixel345=228, pixel346=158, pixel347=90, pixel348=103, pixel349=186, pixel350=138, pixel351=100, pixel352=121, pixel353=147, pixel354=158, pixel355=183, pixel356=226, pixel357=208, pixel358=214, pixel359=209, pixel360=216, pixel361=255, pixel362=13, pixel363=0, pixel364=1, pixel365=0, pixel366=0, pixel367=226, pixel368=219, pixel369=202, pixel370=208, pixel371=206, pixel372=205, pixel373=216, pixel374=184, pixel375=156, pixel376=150, pixel377=193, pixel378=170, pixel379=164, pixel380=168, pixel381=188, pixel382=186, pixel383=200, pixel384=219, pixel385=216, pixel386=213, pixel387=213, pixel388=211, pixel389=233, pixel390=148, pixel391=0, pixel392=0, pixel393=0, pixel394=45, pixel395=227, pixel396=204, pixel397=214, pixel398=211, pixel399=218, pixel400=222, pixel401=221, pixel402=230, pixel403=229, pixel404=221, pixel405=213, pixel406=224, pixel407=233, pixel408=226, pixel409=220, pixel410=219, pixel411=221, pixel412=224, pixel413=223, pixel414=217, pixel415=210, pixel416=218, pixel417=213, pixel418=254, pixel419=0, pixel420=0, pixel421=0, pixel422=157, pixel423=226, pixel424=203, pixel425=207, pixel426=211, pixel427=209, pixel428=215, pixel429=205, pixel430=198, pixel431=207, pixel432=208, pixel433=201, pixel434=201, pixel435=197, pixel436=203, pixel437=205, pixel438=210, pixel439=207, pixel440=213, pixel441=214, pixel442=214, pixel443=214, pixel444=213, pixel445=208, pixel446=234, pixel447=107, pixel448=0, pixel449=0, pixel450=235, pixel451=213, pixel452=204, pixel453=211, pixel454=210, pixel455=209, pixel456=213, pixel457=202, pixel458=197, pixel459=204, pixel460=215, pixel461=217, pixel462=213, pixel463=212, pixel464=210, pixel465=206, pixel466=212, pixel467=203, pixel468=211, pixel469=218, pixel470=215, pixel471=214, pixel472=208, pixel473=209, pixel474=222, pixel475=230, pixel476=0, pixel477=52, pixel478=255, pixel479=207, pixel480=200, pixel481=208, pixel482=213, pixel483=210, pixel484=210, pixel485=208, pixel486=207, pixel487=202, pixel488=201, pixel489=209, pixel490=216, pixel491=216, pixel492=216, pixel493=216, pixel494=214, pixel495=212, pixel496=205, pixel497=215, pixel498=201, pixel499=228, pixel500=208, pixel501=214, pixel502=212, pixel503=218, pixel504=25, pixel505=118, pixel506=217, pixel507=201, pixel508=206, pixel509=208, pixel510=213, pixel511=208, pixel512=205, pixel513=206, pixel514=210, pixel515=211, pixel516=202, pixel517=199, pixel518=207, pixel519=208, pixel520=209, pixel521=210, pixel522=207, pixel523=210, pixel524=210, pixel525=245, pixel526=139, pixel527=119, pixel528=255, pixel529=202, pixel530=203, pixel531=236, pixel532=114, pixel533=171, pixel534=238, pixel535=212, pixel536=203, pixel537=220, pixel538=216, pixel539=217, pixel540=209, pixel541=207, pixel542=205, pixel543=210, pixel544=211, pixel545=206, pixel546=204, pixel547=206, pixel548=209, pixel549=211, pixel550=215, pixel551=210, pixel552=206, pixel553=221, pixel554=242, pixel555=0, pixel556=224, pixel557=234, pixel558=230, pixel559=181, pixel560=26, pixel561=39, pixel562=145, pixel563=201, pixel564=255, pixel565=157, pixel566=115, pixel567=250, pixel568=200, pixel569=207, pixel570=206, pixel571=207, pixel572=213, pixel573=216, pixel574=206, pixel575=205, pixel576=206, pixel577=207, pixel578=206, pixel579=215, pixel580=207, pixel581=221, pixel582=238, pixel583=0, pixel584=0, pixel585=188, pixel586=85, pixel587=0, pixel588=0, pixel589=0, pixel590=0, pixel591=0, pixel592=31, pixel593=0, pixel594=129, pixel595=253, pixel596=190, pixel597=207, pixel598=208, pixel599=208, pixel600=208, pixel601=209, pixel602=211, pixel603=211, pixel604=209, pixel605=209, pixel606=209, pixel607=212, pixel608=201, pixel609=226, pixel610=165, pixel611=0, pixel612=0, pixel613=0, pixel614=0, pixel615=0, pixel616=0, pixel617=2, pixel618=0, pixel619=0, pixel620=0, pixel621=0, pixel622=89, pixel623=254, pixel624=199, pixel625=199, pixel626=192, pixel627=196, pixel628=198, pixel629=199, pixel630=201, pixel631=202, pixel632=203, pixel633=204, pixel634=203, pixel635=203, pixel636=200, pixel637=222, pixel638=155, pixel639=0, pixel640=3, pixel641=3, pixel642=3, pixel643=2, pixel644=0, pixel645=0, pixel646=0, pixel647=1, pixel648=5, pixel649=0, pixel650=0, pixel651=255, pixel652=218, pixel653=226, pixel654=232, pixel655=228, pixel656=224, pixel657=222, pixel658=220, pixel659=219, pixel660=219, pixel661=217, pixel662=221, pixel663=220, pixel664=212, pixel665=236, pixel666=95, pixel667=0, pixel668=2, pixel669=0, pixel670=0, pixel671=0, pixel672=0, pixel673=0, pixel674=0, pixel675=0, pixel676=0, pixel677=0, pixel678=0, pixel679=155, pixel680=194, pixel681=168, pixel682=170, pixel683=171, pixel684=173, pixel685=173, pixel686=179, pixel687=177, pixel688=175, pixel689=172, pixel690=171, pixel691=167, pixel692=161, pixel693=180, pixel694=0, pixel695=0, pixel696=1, pixel697=0, pixel698=1, pixel699=0, pixel700=0, pixel701=0, pixel702=0, pixel703=0, pixel704=0, pixel705=0, pixel706=0, pixel707=0, pixel708=0, pixel709=0, pixel710=0, pixel711=0, pixel712=0, pixel713=0, pixel714=0, pixel715=0, pixel716=0, pixel717=0, pixel718=0, pixel719=0, pixel720=0, pixel721=0, pixel722=0, pixel723=0, pixel724=0, pixel725=0, pixel726=0, pixel727=0, pixel728=0, pixel729=0, pixel730=0, pixel731=0, pixel732=0, pixel733=0, pixel734=0, pixel735=0, pixel736=0, pixel737=0, pixel738=0, pixel739=0, pixel740=0, pixel741=0, pixel742=0, pixel743=0, pixel744=0, pixel745=0, pixel746=0, pixel747=0, pixel748=0, pixel749=0, pixel750=0, pixel751=0, pixel752=0, pixel753=0, pixel754=0, pixel755=0, pixel756=0, pixel757=0, pixel758=0, pixel759=0, pixel760=0, pixel761=0, pixel762=0, pixel763=0, pixel764=0, pixel765=0, pixel766=0, pixel767=0, pixel768=0, pixel769=0, pixel770=0, pixel771=0, pixel772=0, pixel773=0, pixel774=0, pixel775=0, pixel776=0, pixel777=0, pixel778=0, pixel779=0, pixel780=0, pixel781=0, pixel782=0, pixel783=0, pixel784=0)"
     },
     "metadata": {},
     "execution_count": 8
    }
   ],
   "source": [
    "df.head()"
   ]
  },
  {
   "cell_type": "code",
   "execution_count": 9,
   "metadata": {},
   "outputs": [],
   "source": [
    "from pyspark.ml.feature import VectorAssembler"
   ]
  },
  {
   "cell_type": "code",
   "execution_count": 10,
   "metadata": {
    "tags": []
   },
   "outputs": [
    {
     "output_type": "stream",
     "name": "stdout",
     "text": "['pixel1', 'pixel2', 'pixel3', 'pixel4', 'pixel5', 'pixel6', 'pixel7', 'pixel8', 'pixel9', 'pixel10', 'pixel11', 'pixel12', 'pixel13', 'pixel14', 'pixel15', 'pixel16', 'pixel17', 'pixel18', 'pixel19', 'pixel20', 'pixel21', 'pixel22', 'pixel23', 'pixel24', 'pixel25', 'pixel26', 'pixel27', 'pixel28', 'pixel29', 'pixel30', 'pixel31', 'pixel32', 'pixel33', 'pixel34', 'pixel35', 'pixel36', 'pixel37', 'pixel38', 'pixel39', 'pixel40', 'pixel41', 'pixel42', 'pixel43', 'pixel44', 'pixel45', 'pixel46', 'pixel47', 'pixel48', 'pixel49', 'pixel50', 'pixel51', 'pixel52', 'pixel53', 'pixel54', 'pixel55', 'pixel56', 'pixel57', 'pixel58', 'pixel59', 'pixel60', 'pixel61', 'pixel62', 'pixel63', 'pixel64', 'pixel65', 'pixel66', 'pixel67', 'pixel68', 'pixel69', 'pixel70', 'pixel71', 'pixel72', 'pixel73', 'pixel74', 'pixel75', 'pixel76', 'pixel77', 'pixel78', 'pixel79', 'pixel80', 'pixel81', 'pixel82', 'pixel83', 'pixel84', 'pixel85', 'pixel86', 'pixel87', 'pixel88', 'pixel89', 'pixel90', 'pixel91', 'pixel92', 'pixel93', 'pixel94', 'pixel95', 'pixel96', 'pixel97', 'pixel98', 'pixel99', 'pixel100', 'pixel101', 'pixel102', 'pixel103', 'pixel104', 'pixel105', 'pixel106', 'pixel107', 'pixel108', 'pixel109', 'pixel110', 'pixel111', 'pixel112', 'pixel113', 'pixel114', 'pixel115', 'pixel116', 'pixel117', 'pixel118', 'pixel119', 'pixel120', 'pixel121', 'pixel122', 'pixel123', 'pixel124', 'pixel125', 'pixel126', 'pixel127', 'pixel128', 'pixel129', 'pixel130', 'pixel131', 'pixel132', 'pixel133', 'pixel134', 'pixel135', 'pixel136', 'pixel137', 'pixel138', 'pixel139', 'pixel140', 'pixel141', 'pixel142', 'pixel143', 'pixel144', 'pixel145', 'pixel146', 'pixel147', 'pixel148', 'pixel149', 'pixel150', 'pixel151', 'pixel152', 'pixel153', 'pixel154', 'pixel155', 'pixel156', 'pixel157', 'pixel158', 'pixel159', 'pixel160', 'pixel161', 'pixel162', 'pixel163', 'pixel164', 'pixel165', 'pixel166', 'pixel167', 'pixel168', 'pixel169', 'pixel170', 'pixel171', 'pixel172', 'pixel173', 'pixel174', 'pixel175', 'pixel176', 'pixel177', 'pixel178', 'pixel179', 'pixel180', 'pixel181', 'pixel182', 'pixel183', 'pixel184', 'pixel185', 'pixel186', 'pixel187', 'pixel188', 'pixel189', 'pixel190', 'pixel191', 'pixel192', 'pixel193', 'pixel194', 'pixel195', 'pixel196', 'pixel197', 'pixel198', 'pixel199', 'pixel200', 'pixel201', 'pixel202', 'pixel203', 'pixel204', 'pixel205', 'pixel206', 'pixel207', 'pixel208', 'pixel209', 'pixel210', 'pixel211', 'pixel212', 'pixel213', 'pixel214', 'pixel215', 'pixel216', 'pixel217', 'pixel218', 'pixel219', 'pixel220', 'pixel221', 'pixel222', 'pixel223', 'pixel224', 'pixel225', 'pixel226', 'pixel227', 'pixel228', 'pixel229', 'pixel230', 'pixel231', 'pixel232', 'pixel233', 'pixel234', 'pixel235', 'pixel236', 'pixel237', 'pixel238', 'pixel239', 'pixel240', 'pixel241', 'pixel242', 'pixel243', 'pixel244', 'pixel245', 'pixel246', 'pixel247', 'pixel248', 'pixel249', 'pixel250', 'pixel251', 'pixel252', 'pixel253', 'pixel254', 'pixel255', 'pixel256', 'pixel257', 'pixel258', 'pixel259', 'pixel260', 'pixel261', 'pixel262', 'pixel263', 'pixel264', 'pixel265', 'pixel266', 'pixel267', 'pixel268', 'pixel269', 'pixel270', 'pixel271', 'pixel272', 'pixel273', 'pixel274', 'pixel275', 'pixel276', 'pixel277', 'pixel278', 'pixel279', 'pixel280', 'pixel281', 'pixel282', 'pixel283', 'pixel284', 'pixel285', 'pixel286', 'pixel287', 'pixel288', 'pixel289', 'pixel290', 'pixel291', 'pixel292', 'pixel293', 'pixel294', 'pixel295', 'pixel296', 'pixel297', 'pixel298', 'pixel299', 'pixel300', 'pixel301', 'pixel302', 'pixel303', 'pixel304', 'pixel305', 'pixel306', 'pixel307', 'pixel308', 'pixel309', 'pixel310', 'pixel311', 'pixel312', 'pixel313', 'pixel314', 'pixel315', 'pixel316', 'pixel317', 'pixel318', 'pixel319', 'pixel320', 'pixel321', 'pixel322', 'pixel323', 'pixel324', 'pixel325', 'pixel326', 'pixel327', 'pixel328', 'pixel329', 'pixel330', 'pixel331', 'pixel332', 'pixel333', 'pixel334', 'pixel335', 'pixel336', 'pixel337', 'pixel338', 'pixel339', 'pixel340', 'pixel341', 'pixel342', 'pixel343', 'pixel344', 'pixel345', 'pixel346', 'pixel347', 'pixel348', 'pixel349', 'pixel350', 'pixel351', 'pixel352', 'pixel353', 'pixel354', 'pixel355', 'pixel356', 'pixel357', 'pixel358', 'pixel359', 'pixel360', 'pixel361', 'pixel362', 'pixel363', 'pixel364', 'pixel365', 'pixel366', 'pixel367', 'pixel368', 'pixel369', 'pixel370', 'pixel371', 'pixel372', 'pixel373', 'pixel374', 'pixel375', 'pixel376', 'pixel377', 'pixel378', 'pixel379', 'pixel380', 'pixel381', 'pixel382', 'pixel383', 'pixel384', 'pixel385', 'pixel386', 'pixel387', 'pixel388', 'pixel389', 'pixel390', 'pixel391', 'pixel392', 'pixel393', 'pixel394', 'pixel395', 'pixel396', 'pixel397', 'pixel398', 'pixel399', 'pixel400', 'pixel401', 'pixel402', 'pixel403', 'pixel404', 'pixel405', 'pixel406', 'pixel407', 'pixel408', 'pixel409', 'pixel410', 'pixel411', 'pixel412', 'pixel413', 'pixel414', 'pixel415', 'pixel416', 'pixel417', 'pixel418', 'pixel419', 'pixel420', 'pixel421', 'pixel422', 'pixel423', 'pixel424', 'pixel425', 'pixel426', 'pixel427', 'pixel428', 'pixel429', 'pixel430', 'pixel431', 'pixel432', 'pixel433', 'pixel434', 'pixel435', 'pixel436', 'pixel437', 'pixel438', 'pixel439', 'pixel440', 'pixel441', 'pixel442', 'pixel443', 'pixel444', 'pixel445', 'pixel446', 'pixel447', 'pixel448', 'pixel449', 'pixel450', 'pixel451', 'pixel452', 'pixel453', 'pixel454', 'pixel455', 'pixel456', 'pixel457', 'pixel458', 'pixel459', 'pixel460', 'pixel461', 'pixel462', 'pixel463', 'pixel464', 'pixel465', 'pixel466', 'pixel467', 'pixel468', 'pixel469', 'pixel470', 'pixel471', 'pixel472', 'pixel473', 'pixel474', 'pixel475', 'pixel476', 'pixel477', 'pixel478', 'pixel479', 'pixel480', 'pixel481', 'pixel482', 'pixel483', 'pixel484', 'pixel485', 'pixel486', 'pixel487', 'pixel488', 'pixel489', 'pixel490', 'pixel491', 'pixel492', 'pixel493', 'pixel494', 'pixel495', 'pixel496', 'pixel497', 'pixel498', 'pixel499', 'pixel500', 'pixel501', 'pixel502', 'pixel503', 'pixel504', 'pixel505', 'pixel506', 'pixel507', 'pixel508', 'pixel509', 'pixel510', 'pixel511', 'pixel512', 'pixel513', 'pixel514', 'pixel515', 'pixel516', 'pixel517', 'pixel518', 'pixel519', 'pixel520', 'pixel521', 'pixel522', 'pixel523', 'pixel524', 'pixel525', 'pixel526', 'pixel527', 'pixel528', 'pixel529', 'pixel530', 'pixel531', 'pixel532', 'pixel533', 'pixel534', 'pixel535', 'pixel536', 'pixel537', 'pixel538', 'pixel539', 'pixel540', 'pixel541', 'pixel542', 'pixel543', 'pixel544', 'pixel545', 'pixel546', 'pixel547', 'pixel548', 'pixel549', 'pixel550', 'pixel551', 'pixel552', 'pixel553', 'pixel554', 'pixel555', 'pixel556', 'pixel557', 'pixel558', 'pixel559', 'pixel560', 'pixel561', 'pixel562', 'pixel563', 'pixel564', 'pixel565', 'pixel566', 'pixel567', 'pixel568', 'pixel569', 'pixel570', 'pixel571', 'pixel572', 'pixel573', 'pixel574', 'pixel575', 'pixel576', 'pixel577', 'pixel578', 'pixel579', 'pixel580', 'pixel581', 'pixel582', 'pixel583', 'pixel584', 'pixel585', 'pixel586', 'pixel587', 'pixel588', 'pixel589', 'pixel590', 'pixel591', 'pixel592', 'pixel593', 'pixel594', 'pixel595', 'pixel596', 'pixel597', 'pixel598', 'pixel599', 'pixel600', 'pixel601', 'pixel602', 'pixel603', 'pixel604', 'pixel605', 'pixel606', 'pixel607', 'pixel608', 'pixel609', 'pixel610', 'pixel611', 'pixel612', 'pixel613', 'pixel614', 'pixel615', 'pixel616', 'pixel617', 'pixel618', 'pixel619', 'pixel620', 'pixel621', 'pixel622', 'pixel623', 'pixel624', 'pixel625', 'pixel626', 'pixel627', 'pixel628', 'pixel629', 'pixel630', 'pixel631', 'pixel632', 'pixel633', 'pixel634', 'pixel635', 'pixel636', 'pixel637', 'pixel638', 'pixel639', 'pixel640', 'pixel641', 'pixel642', 'pixel643', 'pixel644', 'pixel645', 'pixel646', 'pixel647', 'pixel648', 'pixel649', 'pixel650', 'pixel651', 'pixel652', 'pixel653', 'pixel654', 'pixel655', 'pixel656', 'pixel657', 'pixel658', 'pixel659', 'pixel660', 'pixel661', 'pixel662', 'pixel663', 'pixel664', 'pixel665', 'pixel666', 'pixel667', 'pixel668', 'pixel669', 'pixel670', 'pixel671', 'pixel672', 'pixel673', 'pixel674', 'pixel675', 'pixel676', 'pixel677', 'pixel678', 'pixel679', 'pixel680', 'pixel681', 'pixel682', 'pixel683', 'pixel684', 'pixel685', 'pixel686', 'pixel687', 'pixel688', 'pixel689', 'pixel690', 'pixel691', 'pixel692', 'pixel693', 'pixel694', 'pixel695', 'pixel696', 'pixel697', 'pixel698', 'pixel699', 'pixel700', 'pixel701', 'pixel702', 'pixel703', 'pixel704', 'pixel705', 'pixel706', 'pixel707', 'pixel708', 'pixel709', 'pixel710', 'pixel711', 'pixel712', 'pixel713', 'pixel714', 'pixel715', 'pixel716', 'pixel717', 'pixel718', 'pixel719', 'pixel720', 'pixel721', 'pixel722', 'pixel723', 'pixel724', 'pixel725', 'pixel726', 'pixel727', 'pixel728', 'pixel729', 'pixel730', 'pixel731', 'pixel732', 'pixel733', 'pixel734', 'pixel735', 'pixel736', 'pixel737', 'pixel738', 'pixel739', 'pixel740', 'pixel741', 'pixel742', 'pixel743', 'pixel744', 'pixel745', 'pixel746', 'pixel747', 'pixel748', 'pixel749', 'pixel750', 'pixel751', 'pixel752', 'pixel753', 'pixel754', 'pixel755', 'pixel756', 'pixel757', 'pixel758', 'pixel759', 'pixel760', 'pixel761', 'pixel762', 'pixel763', 'pixel764', 'pixel765', 'pixel766', 'pixel767', 'pixel768', 'pixel769', 'pixel770', 'pixel771', 'pixel772', 'pixel773', 'pixel774', 'pixel775', 'pixel776', 'pixel777', 'pixel778', 'pixel779', 'pixel780', 'pixel781', 'pixel782', 'pixel783', 'pixel784']\n"
    }
   ],
   "source": [
    "features = df.columns[1:]\n",
    "print(features)\n",
    "assembler = VectorAssembler(inputCols=features, outputCol=\"features\")\n",
    "feat_df = assembler.transform(df)\n",
    "feat_test_df = assembler.transform(df_test)"
   ]
  },
  {
   "cell_type": "code",
   "execution_count": 11,
   "metadata": {
    "tags": []
   },
   "outputs": [
    {
     "output_type": "execute_result",
     "data": {
      "text/plain": "Row(label=2, pixel1=0, pixel2=0, pixel3=0, pixel4=0, pixel5=0, pixel6=0, pixel7=0, pixel8=0, pixel9=0, pixel10=0, pixel11=0, pixel12=0, pixel13=0, pixel14=0, pixel15=0, pixel16=0, pixel17=0, pixel18=0, pixel19=0, pixel20=0, pixel21=0, pixel22=0, pixel23=0, pixel24=0, pixel25=0, pixel26=0, pixel27=0, pixel28=0, pixel29=0, pixel30=0, pixel31=0, pixel32=0, pixel33=0, pixel34=0, pixel35=0, pixel36=0, pixel37=0, pixel38=0, pixel39=0, pixel40=0, pixel41=0, pixel42=0, pixel43=0, pixel44=0, pixel45=0, pixel46=0, pixel47=0, pixel48=0, pixel49=0, pixel50=0, pixel51=0, pixel52=0, pixel53=0, pixel54=0, pixel55=0, pixel56=0, pixel57=0, pixel58=0, pixel59=0, pixel60=0, pixel61=0, pixel62=0, pixel63=0, pixel64=0, pixel65=0, pixel66=0, pixel67=0, pixel68=0, pixel69=0, pixel70=0, pixel71=0, pixel72=0, pixel73=0, pixel74=0, pixel75=0, pixel76=0, pixel77=0, pixel78=0, pixel79=0, pixel80=0, pixel81=0, pixel82=0, pixel83=0, pixel84=0, pixel85=0, pixel86=0, pixel87=0, pixel88=0, pixel89=4, pixel90=0, pixel91=0, pixel92=0, pixel93=0, pixel94=0, pixel95=62, pixel96=61, pixel97=21, pixel98=29, pixel99=23, pixel100=51, pixel101=136, pixel102=61, pixel103=0, pixel104=0, pixel105=0, pixel106=0, pixel107=0, pixel108=0, pixel109=0, pixel110=0, pixel111=0, pixel112=0, pixel113=0, pixel114=0, pixel115=0, pixel116=0, pixel117=0, pixel118=0, pixel119=0, pixel120=88, pixel121=201, pixel122=228, pixel123=225, pixel124=255, pixel125=115, pixel126=62, pixel127=137, pixel128=255, pixel129=235, pixel130=222, pixel131=255, pixel132=135, pixel133=0, pixel134=0, pixel135=0, pixel136=0, pixel137=0, pixel138=0, pixel139=0, pixel140=0, pixel141=0, pixel142=0, pixel143=0, pixel144=0, pixel145=0, pixel146=47, pixel147=252, pixel148=234, pixel149=238, pixel150=224, pixel151=215, pixel152=215, pixel153=229, pixel154=108, pixel155=180, pixel156=207, pixel157=214, pixel158=224, pixel159=231, pixel160=249, pixel161=254, pixel162=45, pixel163=0, pixel164=0, pixel165=0, pixel166=0, pixel167=0, pixel168=0, pixel169=0, pixel170=0, pixel171=1, pixel172=0, pixel173=0, pixel174=214, pixel175=222, pixel176=210, pixel177=213, pixel178=224, pixel179=225, pixel180=217, pixel181=220, pixel182=254, pixel183=233, pixel184=219, pixel185=221, pixel186=217, pixel187=223, pixel188=221, pixel189=240, pixel190=254, pixel191=0, pixel192=0, pixel193=1, pixel194=0, pixel195=0, pixel196=0, pixel197=1, pixel198=0, pixel199=0, pixel200=0, pixel201=128, pixel202=237, pixel203=207, pixel204=224, pixel205=224, pixel206=207, pixel207=216, pixel208=214, pixel209=210, pixel210=208, pixel211=211, pixel212=221, pixel213=208, pixel214=219, pixel215=213, pixel216=226, pixel217=211, pixel218=237, pixel219=150, pixel220=0, pixel221=0, pixel222=0, pixel223=0, pixel224=0, pixel225=0, pixel226=2, pixel227=0, pixel228=0, pixel229=237, pixel230=222, pixel231=215, pixel232=207, pixel233=210, pixel234=212, pixel235=213, pixel236=206, pixel237=214, pixel238=213, pixel239=214, pixel240=213, pixel241=210, pixel242=215, pixel243=214, pixel244=206, pixel245=199, pixel246=218, pixel247=255, pixel248=13, pixel249=0, pixel250=2, pixel251=0, pixel252=0, pixel253=0, pixel254=4, pixel255=0, pixel256=85, pixel257=228, pixel258=210, pixel259=218, pixel260=200, pixel261=211, pixel262=208, pixel263=203, pixel264=215, pixel265=210, pixel266=209, pixel267=209, pixel268=210, pixel269=213, pixel270=211, pixel271=210, pixel272=217, pixel273=206, pixel274=213, pixel275=231, pixel276=175, pixel277=0, pixel278=0, pixel279=0, pixel280=0, pixel281=0, pixel282=0, pixel283=0, pixel284=217, pixel285=224, pixel286=215, pixel287=206, pixel288=205, pixel289=204, pixel290=217, pixel291=230, pixel292=222, pixel293=215, pixel294=224, pixel295=233, pixel296=228, pixel297=232, pixel298=228, pixel299=224, pixel300=207, pixel301=212, pixel302=215, pixel303=213, pixel304=229, pixel305=31, pixel306=0, pixel307=4, pixel308=0, pixel309=1, pixel310=0, pixel311=21, pixel312=225, pixel313=212, pixel314=212, pixel315=203, pixel316=211, pixel317=225, pixel318=193, pixel319=139, pixel320=136, pixel321=195, pixel322=147, pixel323=156, pixel324=139, pixel325=128, pixel326=162, pixel327=197, pixel328=223, pixel329=207, pixel330=220, pixel331=213, pixel332=232, pixel333=177, pixel334=0, pixel335=0, pixel336=0, pixel337=0, pixel338=0, pixel339=123, pixel340=226, pixel341=207, pixel342=211, pixel343=209, pixel344=205, pixel345=228, pixel346=158, pixel347=90, pixel348=103, pixel349=186, pixel350=138, pixel351=100, pixel352=121, pixel353=147, pixel354=158, pixel355=183, pixel356=226, pixel357=208, pixel358=214, pixel359=209, pixel360=216, pixel361=255, pixel362=13, pixel363=0, pixel364=1, pixel365=0, pixel366=0, pixel367=226, pixel368=219, pixel369=202, pixel370=208, pixel371=206, pixel372=205, pixel373=216, pixel374=184, pixel375=156, pixel376=150, pixel377=193, pixel378=170, pixel379=164, pixel380=168, pixel381=188, pixel382=186, pixel383=200, pixel384=219, pixel385=216, pixel386=213, pixel387=213, pixel388=211, pixel389=233, pixel390=148, pixel391=0, pixel392=0, pixel393=0, pixel394=45, pixel395=227, pixel396=204, pixel397=214, pixel398=211, pixel399=218, pixel400=222, pixel401=221, pixel402=230, pixel403=229, pixel404=221, pixel405=213, pixel406=224, pixel407=233, pixel408=226, pixel409=220, pixel410=219, pixel411=221, pixel412=224, pixel413=223, pixel414=217, pixel415=210, pixel416=218, pixel417=213, pixel418=254, pixel419=0, pixel420=0, pixel421=0, pixel422=157, pixel423=226, pixel424=203, pixel425=207, pixel426=211, pixel427=209, pixel428=215, pixel429=205, pixel430=198, pixel431=207, pixel432=208, pixel433=201, pixel434=201, pixel435=197, pixel436=203, pixel437=205, pixel438=210, pixel439=207, pixel440=213, pixel441=214, pixel442=214, pixel443=214, pixel444=213, pixel445=208, pixel446=234, pixel447=107, pixel448=0, pixel449=0, pixel450=235, pixel451=213, pixel452=204, pixel453=211, pixel454=210, pixel455=209, pixel456=213, pixel457=202, pixel458=197, pixel459=204, pixel460=215, pixel461=217, pixel462=213, pixel463=212, pixel464=210, pixel465=206, pixel466=212, pixel467=203, pixel468=211, pixel469=218, pixel470=215, pixel471=214, pixel472=208, pixel473=209, pixel474=222, pixel475=230, pixel476=0, pixel477=52, pixel478=255, pixel479=207, pixel480=200, pixel481=208, pixel482=213, pixel483=210, pixel484=210, pixel485=208, pixel486=207, pixel487=202, pixel488=201, pixel489=209, pixel490=216, pixel491=216, pixel492=216, pixel493=216, pixel494=214, pixel495=212, pixel496=205, pixel497=215, pixel498=201, pixel499=228, pixel500=208, pixel501=214, pixel502=212, pixel503=218, pixel504=25, pixel505=118, pixel506=217, pixel507=201, pixel508=206, pixel509=208, pixel510=213, pixel511=208, pixel512=205, pixel513=206, pixel514=210, pixel515=211, pixel516=202, pixel517=199, pixel518=207, pixel519=208, pixel520=209, pixel521=210, pixel522=207, pixel523=210, pixel524=210, pixel525=245, pixel526=139, pixel527=119, pixel528=255, pixel529=202, pixel530=203, pixel531=236, pixel532=114, pixel533=171, pixel534=238, pixel535=212, pixel536=203, pixel537=220, pixel538=216, pixel539=217, pixel540=209, pixel541=207, pixel542=205, pixel543=210, pixel544=211, pixel545=206, pixel546=204, pixel547=206, pixel548=209, pixel549=211, pixel550=215, pixel551=210, pixel552=206, pixel553=221, pixel554=242, pixel555=0, pixel556=224, pixel557=234, pixel558=230, pixel559=181, pixel560=26, pixel561=39, pixel562=145, pixel563=201, pixel564=255, pixel565=157, pixel566=115, pixel567=250, pixel568=200, pixel569=207, pixel570=206, pixel571=207, pixel572=213, pixel573=216, pixel574=206, pixel575=205, pixel576=206, pixel577=207, pixel578=206, pixel579=215, pixel580=207, pixel581=221, pixel582=238, pixel583=0, pixel584=0, pixel585=188, pixel586=85, pixel587=0, pixel588=0, pixel589=0, pixel590=0, pixel591=0, pixel592=31, pixel593=0, pixel594=129, pixel595=253, pixel596=190, pixel597=207, pixel598=208, pixel599=208, pixel600=208, pixel601=209, pixel602=211, pixel603=211, pixel604=209, pixel605=209, pixel606=209, pixel607=212, pixel608=201, pixel609=226, pixel610=165, pixel611=0, pixel612=0, pixel613=0, pixel614=0, pixel615=0, pixel616=0, pixel617=2, pixel618=0, pixel619=0, pixel620=0, pixel621=0, pixel622=89, pixel623=254, pixel624=199, pixel625=199, pixel626=192, pixel627=196, pixel628=198, pixel629=199, pixel630=201, pixel631=202, pixel632=203, pixel633=204, pixel634=203, pixel635=203, pixel636=200, pixel637=222, pixel638=155, pixel639=0, pixel640=3, pixel641=3, pixel642=3, pixel643=2, pixel644=0, pixel645=0, pixel646=0, pixel647=1, pixel648=5, pixel649=0, pixel650=0, pixel651=255, pixel652=218, pixel653=226, pixel654=232, pixel655=228, pixel656=224, pixel657=222, pixel658=220, pixel659=219, pixel660=219, pixel661=217, pixel662=221, pixel663=220, pixel664=212, pixel665=236, pixel666=95, pixel667=0, pixel668=2, pixel669=0, pixel670=0, pixel671=0, pixel672=0, pixel673=0, pixel674=0, pixel675=0, pixel676=0, pixel677=0, pixel678=0, pixel679=155, pixel680=194, pixel681=168, pixel682=170, pixel683=171, pixel684=173, pixel685=173, pixel686=179, pixel687=177, pixel688=175, pixel689=172, pixel690=171, pixel691=167, pixel692=161, pixel693=180, pixel694=0, pixel695=0, pixel696=1, pixel697=0, pixel698=1, pixel699=0, pixel700=0, pixel701=0, pixel702=0, pixel703=0, pixel704=0, pixel705=0, pixel706=0, pixel707=0, pixel708=0, pixel709=0, pixel710=0, pixel711=0, pixel712=0, pixel713=0, pixel714=0, pixel715=0, pixel716=0, pixel717=0, pixel718=0, pixel719=0, pixel720=0, pixel721=0, pixel722=0, pixel723=0, pixel724=0, pixel725=0, pixel726=0, pixel727=0, pixel728=0, pixel729=0, pixel730=0, pixel731=0, pixel732=0, pixel733=0, pixel734=0, pixel735=0, pixel736=0, pixel737=0, pixel738=0, pixel739=0, pixel740=0, pixel741=0, pixel742=0, pixel743=0, pixel744=0, pixel745=0, pixel746=0, pixel747=0, pixel748=0, pixel749=0, pixel750=0, pixel751=0, pixel752=0, pixel753=0, pixel754=0, pixel755=0, pixel756=0, pixel757=0, pixel758=0, pixel759=0, pixel760=0, pixel761=0, pixel762=0, pixel763=0, pixel764=0, pixel765=0, pixel766=0, pixel767=0, pixel768=0, pixel769=0, pixel770=0, pixel771=0, pixel772=0, pixel773=0, pixel774=0, pixel775=0, pixel776=0, pixel777=0, pixel778=0, pixel779=0, pixel780=0, pixel781=0, pixel782=0, pixel783=0, pixel784=0, features=SparseVector(784, {88: 4.0, 94: 62.0, 95: 61.0, 96: 21.0, 97: 29.0, 98: 23.0, 99: 51.0, 100: 136.0, 101: 61.0, 119: 88.0, 120: 201.0, 121: 228.0, 122: 225.0, 123: 255.0, 124: 115.0, 125: 62.0, 126: 137.0, 127: 255.0, 128: 235.0, 129: 222.0, 130: 255.0, 131: 135.0, 145: 47.0, 146: 252.0, 147: 234.0, 148: 238.0, 149: 224.0, 150: 215.0, 151: 215.0, 152: 229.0, 153: 108.0, 154: 180.0, 155: 207.0, 156: 214.0, 157: 224.0, 158: 231.0, 159: 249.0, 160: 254.0, 161: 45.0, 170: 1.0, 173: 214.0, 174: 222.0, 175: 210.0, 176: 213.0, 177: 224.0, 178: 225.0, 179: 217.0, 180: 220.0, 181: 254.0, 182: 233.0, 183: 219.0, 184: 221.0, 185: 217.0, 186: 223.0, 187: 221.0, 188: 240.0, 189: 254.0, 192: 1.0, 196: 1.0, 200: 128.0, 201: 237.0, 202: 207.0, 203: 224.0, 204: 224.0, 205: 207.0, 206: 216.0, 207: 214.0, 208: 210.0, 209: 208.0, 210: 211.0, 211: 221.0, 212: 208.0, 213: 219.0, 214: 213.0, 215: 226.0, 216: 211.0, 217: 237.0, 218: 150.0, 225: 2.0, 228: 237.0, 229: 222.0, 230: 215.0, 231: 207.0, 232: 210.0, 233: 212.0, 234: 213.0, 235: 206.0, 236: 214.0, 237: 213.0, 238: 214.0, 239: 213.0, 240: 210.0, 241: 215.0, 242: 214.0, 243: 206.0, 244: 199.0, 245: 218.0, 246: 255.0, 247: 13.0, 249: 2.0, 253: 4.0, 255: 85.0, 256: 228.0, 257: 210.0, 258: 218.0, 259: 200.0, 260: 211.0, 261: 208.0, 262: 203.0, 263: 215.0, 264: 210.0, 265: 209.0, 266: 209.0, 267: 210.0, 268: 213.0, 269: 211.0, 270: 210.0, 271: 217.0, 272: 206.0, 273: 213.0, 274: 231.0, 275: 175.0, 283: 217.0, 284: 224.0, 285: 215.0, 286: 206.0, 287: 205.0, 288: 204.0, 289: 217.0, 290: 230.0, 291: 222.0, 292: 215.0, 293: 224.0, 294: 233.0, 295: 228.0, 296: 232.0, 297: 228.0, 298: 224.0, 299: 207.0, 300: 212.0, 301: 215.0, 302: 213.0, 303: 229.0, 304: 31.0, 306: 4.0, 308: 1.0, 310: 21.0, 311: 225.0, 312: 212.0, 313: 212.0, 314: 203.0, 315: 211.0, 316: 225.0, 317: 193.0, 318: 139.0, 319: 136.0, 320: 195.0, 321: 147.0, 322: 156.0, 323: 139.0, 324: 128.0, 325: 162.0, 326: 197.0, 327: 223.0, 328: 207.0, 329: 220.0, 330: 213.0, 331: 232.0, 332: 177.0, 338: 123.0, 339: 226.0, 340: 207.0, 341: 211.0, 342: 209.0, 343: 205.0, 344: 228.0, 345: 158.0, 346: 90.0, 347: 103.0, 348: 186.0, 349: 138.0, 350: 100.0, 351: 121.0, 352: 147.0, 353: 158.0, 354: 183.0, 355: 226.0, 356: 208.0, 357: 214.0, 358: 209.0, 359: 216.0, 360: 255.0, 361: 13.0, 363: 1.0, 366: 226.0, 367: 219.0, 368: 202.0, 369: 208.0, 370: 206.0, 371: 205.0, 372: 216.0, 373: 184.0, 374: 156.0, 375: 150.0, 376: 193.0, 377: 170.0, 378: 164.0, 379: 168.0, 380: 188.0, 381: 186.0, 382: 200.0, 383: 219.0, 384: 216.0, 385: 213.0, 386: 213.0, 387: 211.0, 388: 233.0, 389: 148.0, 393: 45.0, 394: 227.0, 395: 204.0, 396: 214.0, 397: 211.0, 398: 218.0, 399: 222.0, 400: 221.0, 401: 230.0, 402: 229.0, 403: 221.0, 404: 213.0, 405: 224.0, 406: 233.0, 407: 226.0, 408: 220.0, 409: 219.0, 410: 221.0, 411: 224.0, 412: 223.0, 413: 217.0, 414: 210.0, 415: 218.0, 416: 213.0, 417: 254.0, 421: 157.0, 422: 226.0, 423: 203.0, 424: 207.0, 425: 211.0, 426: 209.0, 427: 215.0, 428: 205.0, 429: 198.0, 430: 207.0, 431: 208.0, 432: 201.0, 433: 201.0, 434: 197.0, 435: 203.0, 436: 205.0, 437: 210.0, 438: 207.0, 439: 213.0, 440: 214.0, 441: 214.0, 442: 214.0, 443: 213.0, 444: 208.0, 445: 234.0, 446: 107.0, 449: 235.0, 450: 213.0, 451: 204.0, 452: 211.0, 453: 210.0, 454: 209.0, 455: 213.0, 456: 202.0, 457: 197.0, 458: 204.0, 459: 215.0, 460: 217.0, 461: 213.0, 462: 212.0, 463: 210.0, 464: 206.0, 465: 212.0, 466: 203.0, 467: 211.0, 468: 218.0, 469: 215.0, 470: 214.0, 471: 208.0, 472: 209.0, 473: 222.0, 474: 230.0, 476: 52.0, 477: 255.0, 478: 207.0, 479: 200.0, 480: 208.0, 481: 213.0, 482: 210.0, 483: 210.0, 484: 208.0, 485: 207.0, 486: 202.0, 487: 201.0, 488: 209.0, 489: 216.0, 490: 216.0, 491: 216.0, 492: 216.0, 493: 214.0, 494: 212.0, 495: 205.0, 496: 215.0, 497: 201.0, 498: 228.0, 499: 208.0, 500: 214.0, 501: 212.0, 502: 218.0, 503: 25.0, 504: 118.0, 505: 217.0, 506: 201.0, 507: 206.0, 508: 208.0, 509: 213.0, 510: 208.0, 511: 205.0, 512: 206.0, 513: 210.0, 514: 211.0, 515: 202.0, 516: 199.0, 517: 207.0, 518: 208.0, 519: 209.0, 520: 210.0, 521: 207.0, 522: 210.0, 523: 210.0, 524: 245.0, 525: 139.0, 526: 119.0, 527: 255.0, 528: 202.0, 529: 203.0, 530: 236.0, 531: 114.0, 532: 171.0, 533: 238.0, 534: 212.0, 535: 203.0, 536: 220.0, 537: 216.0, 538: 217.0, 539: 209.0, 540: 207.0, 541: 205.0, 542: 210.0, 543: 211.0, 544: 206.0, 545: 204.0, 546: 206.0, 547: 209.0, 548: 211.0, 549: 215.0, 550: 210.0, 551: 206.0, 552: 221.0, 553: 242.0, 555: 224.0, 556: 234.0, 557: 230.0, 558: 181.0, 559: 26.0, 560: 39.0, 561: 145.0, 562: 201.0, 563: 255.0, 564: 157.0, 565: 115.0, 566: 250.0, 567: 200.0, 568: 207.0, 569: 206.0, 570: 207.0, 571: 213.0, 572: 216.0, 573: 206.0, 574: 205.0, 575: 206.0, 576: 207.0, 577: 206.0, 578: 215.0, 579: 207.0, 580: 221.0, 581: 238.0, 584: 188.0, 585: 85.0, 591: 31.0, 593: 129.0, 594: 253.0, 595: 190.0, 596: 207.0, 597: 208.0, 598: 208.0, 599: 208.0, 600: 209.0, 601: 211.0, 602: 211.0, 603: 209.0, 604: 209.0, 605: 209.0, 606: 212.0, 607: 201.0, 608: 226.0, 609: 165.0, 616: 2.0, 621: 89.0, 622: 254.0, 623: 199.0, 624: 199.0, 625: 192.0, 626: 196.0, 627: 198.0, 628: 199.0, 629: 201.0, 630: 202.0, 631: 203.0, 632: 204.0, 633: 203.0, 634: 203.0, 635: 200.0, 636: 222.0, 637: 155.0, 639: 3.0, 640: 3.0, 641: 3.0, 642: 2.0, 646: 1.0, 647: 5.0, 650: 255.0, 651: 218.0, 652: 226.0, 653: 232.0, 654: 228.0, 655: 224.0, 656: 222.0, 657: 220.0, 658: 219.0, 659: 219.0, 660: 217.0, 661: 221.0, 662: 220.0, 663: 212.0, 664: 236.0, 665: 95.0, 667: 2.0, 678: 155.0, 679: 194.0, 680: 168.0, 681: 170.0, 682: 171.0, 683: 173.0, 684: 173.0, 685: 179.0, 686: 177.0, 687: 175.0, 688: 172.0, 689: 171.0, 690: 167.0, 691: 161.0, 692: 180.0, 695: 1.0, 697: 1.0}))"
     },
     "metadata": {},
     "execution_count": 11
    }
   ],
   "source": [
    "feat_df.head()"
   ]
  },
  {
   "cell_type": "code",
   "execution_count": 12,
   "metadata": {
    "tags": []
   },
   "outputs": [
    {
     "output_type": "stream",
     "name": "stdout",
     "text": "+-----+--------------------+\n|label|            features|\n+-----+--------------------+\n|    2|(784,[88,94,95,96...|\n|    9|(784,[152,153,158...|\n|    6|(784,[7,11,12,13,...|\n|    0|(784,[3,4,10,11,1...|\n|    3|(784,[12,14,15,36...|\n|    4|[0.0,0.0,0.0,5.0,...|\n|    4|(784,[12,13,14,15...|\n|    5|(784,[289,290,291...|\n|    4|[0.0,0.0,0.0,0.0,...|\n|    8|(784,[11,14,15,17...|\n|    0|(784,[4,9,10,11,1...|\n|    8|[0.0,0.0,0.0,0.0,...|\n|    9|(784,[65,68,70,71...|\n|    0|[0.0,0.0,0.0,0.0,...|\n|    2|(784,[4,5,10,11,1...|\n|    2|[0.0,0.0,0.0,0.0,...|\n|    9|(784,[151,153,154...|\n|    3|(784,[10,11,12,15...|\n|    3|(784,[9,10,17,18,...|\n|    3|(784,[11,12,13,14...|\n+-----+--------------------+\nonly showing top 20 rows\n\n"
    }
   ],
   "source": [
    "feat_df.select(\"label\", \"features\").show()"
   ]
  },
  {
   "source": [
    "## Cast Label to DoubleType"
   ],
   "cell_type": "markdown",
   "metadata": {}
  },
  {
   "cell_type": "code",
   "execution_count": 13,
   "metadata": {},
   "outputs": [],
   "source": [
    "feat_df = feat_df.withColumn(\"label\", feat_df[\"label\"].cast(DoubleType()))\n",
    "feat_test_df = feat_test_df.withColumn(\"label\", feat_test_df[\"label\"].cast(DoubleType()))"
   ]
  },
  {
   "cell_type": "code",
   "execution_count": 14,
   "metadata": {
    "tags": []
   },
   "outputs": [
    {
     "output_type": "stream",
     "name": "stdout",
     "text": "+-----+\n|label|\n+-----+\n|  2.0|\n|  9.0|\n|  6.0|\n|  0.0|\n|  3.0|\n|  4.0|\n|  4.0|\n|  5.0|\n|  4.0|\n|  8.0|\n|  0.0|\n|  8.0|\n|  9.0|\n|  0.0|\n|  2.0|\n|  2.0|\n|  9.0|\n|  3.0|\n|  3.0|\n|  3.0|\n+-----+\nonly showing top 20 rows\n\n"
    }
   ],
   "source": [
    "feat_df.select(\"label\").show()"
   ]
  },
  {
   "source": [
    "## Modelling"
   ],
   "cell_type": "markdown",
   "metadata": {}
  },
  {
   "cell_type": "code",
   "execution_count": 15,
   "metadata": {},
   "outputs": [],
   "source": [
    "from pyspark.ml.classification import RandomForestClassifier\n",
    "from pyspark.ml.evaluation import MulticlassClassificationEvaluator"
   ]
  },
  {
   "cell_type": "code",
   "execution_count": 16,
   "metadata": {},
   "outputs": [],
   "source": [
    "forest = RandomForestClassifier(labelCol=\"label\", featuresCol=\"features\")"
   ]
  },
  {
   "cell_type": "code",
   "execution_count": 17,
   "metadata": {},
   "outputs": [],
   "source": [
    "forest_model = forest.fit(feat_df)"
   ]
  },
  {
   "source": [
    "## Evaluation"
   ],
   "cell_type": "markdown",
   "metadata": {}
  },
  {
   "cell_type": "code",
   "execution_count": 18,
   "metadata": {
    "tags": []
   },
   "outputs": [
    {
     "output_type": "stream",
     "name": "stdout",
     "text": "Train Accuracy:  0.7255097338571947\n"
    }
   ],
   "source": [
    "predictions_train = forest_model.transform(feat_df)\n",
    "evaluator = MulticlassClassificationEvaluator(predictionCol=\"prediction\", labelCol=\"label\")\n",
    "result = evaluator.evaluate(predictions_train)\n",
    "print(\"Train Accuracy: \", result)"
   ]
  },
  {
   "cell_type": "code",
   "execution_count": 19,
   "metadata": {
    "tags": []
   },
   "outputs": [
    {
     "output_type": "stream",
     "name": "stdout",
     "text": "+-----+----------+-----+\n|label|prediction|count|\n+-----+----------+-----+\n|  7.0|       7.0| 5340|\n|  1.0|       1.0| 5199|\n|  2.0|       2.0| 4421|\n|  6.0|       6.0|   91|\n|  4.0|       4.0| 3921|\n|  9.0|       9.0| 5495|\n|  8.0|       8.0| 5642|\n|  5.0|       5.0| 5023|\n|  0.0|       0.0| 4777|\n|  3.0|       3.0| 5427|\n+-----+----------+-----+\n\n"
    }
   ],
   "source": [
    "#Confusion Matrix\n",
    "predictions_train.where(\"label = prediction\").groupBy(\"label\", \"prediction\").count().show(100)"
   ]
  },
  {
   "cell_type": "code",
   "execution_count": 20,
   "metadata": {
    "tags": []
   },
   "outputs": [
    {
     "output_type": "stream",
     "name": "stdout",
     "text": "Test Accuracy:  0.7208115071290307\n"
    }
   ],
   "source": [
    "prediction_test = forest_model.transform(feat_test_df)\n",
    "test_result = evaluator.evaluate(prediction_test)\n",
    "print(\"Test Accuracy: \", test_result)"
   ]
  },
  {
   "cell_type": "code",
   "execution_count": 21,
   "metadata": {
    "tags": []
   },
   "outputs": [
    {
     "output_type": "stream",
     "name": "stdout",
     "text": "+-----+----------+-----+\n|label|prediction|count|\n+-----+----------+-----+\n|  7.0|       7.0|  872|\n|  1.0|       1.0|  871|\n|  2.0|       2.0|  736|\n|  6.0|       6.0|   13|\n|  4.0|       4.0|  684|\n|  9.0|       9.0|  901|\n|  8.0|       8.0|  938|\n|  5.0|       5.0|  823|\n|  0.0|       0.0|  770|\n|  3.0|       3.0|  910|\n+-----+----------+-----+\n\n"
    }
   ],
   "source": [
    "prediction_test.where(\"label = prediction\").groupBy(\"label\", \"prediction\").count().show(100)"
   ]
  },
  {
   "cell_type": "code",
   "execution_count": 22,
   "metadata": {},
   "outputs": [],
   "source": [
    "from pyspark.mllib.evaluation import MulticlassMetrics"
   ]
  },
  {
   "cell_type": "code",
   "execution_count": 23,
   "metadata": {
    "tags": []
   },
   "outputs": [],
   "source": [
    "prediction_labels = predictions_train.select(\"prediction\", \"label\").rdd\n",
    "train_metrics = MulticlassMetrics(prediction_labels)"
   ]
  },
  {
   "cell_type": "code",
   "execution_count": 24,
   "metadata": {},
   "outputs": [
    {
     "output_type": "execute_result",
     "data": {
      "text/plain": "[0, 1, 2, 3, 4, 5, 6, 7, 8, 9]"
     },
     "metadata": {},
     "execution_count": 24
    }
   ],
   "source": [
    "labels = range(10)\n",
    "list(labels)"
   ]
  },
  {
   "cell_type": "code",
   "execution_count": 25,
   "metadata": {},
   "outputs": [],
   "source": [
    "def print_metrics(metrics, labels):\n",
    "    for label in sorted(labels):\n",
    "        print(\"Class %s precision = %s\" % (label, metrics.precision(label)))\n",
    "        print(\"Class %s recall = %s\" % (label, metrics.recall(label)))\n",
    "        print()\n",
    "        # print(\"Class %s F1 Measure = %s\" % (label, metrics.fMeasure(label)))\n",
    "\n",
    "    # Weighted stats\n",
    "    print(\"Weighted recall = %s\" % metrics.weightedRecall)\n",
    "    print(\"Weighted precision = %s\" % metrics.weightedPrecision)\n",
    "    print(\"Weighted F(1) Score = %s\" % metrics.weightedFMeasure())\n",
    "    print(\"Weighted F(0.5) Score = %s\" % metrics.weightedFMeasure(beta=0.5))\n",
    "    print(\"Weighted false positive rate = %s\" % metrics.weightedFalsePositiveRate)"
   ]
  },
  {
   "cell_type": "code",
   "execution_count": 26,
   "metadata": {
    "tags": []
   },
   "outputs": [
    {
     "output_type": "stream",
     "name": "stdout",
     "text": "Class 0 precision = 0.7429237947122862\nClass 0 recall = 0.7961666666666667\n\nClass 1 precision = 0.9837275307473983\nClass 1 recall = 0.8665\n\nClass 2 precision = 0.5856404821830706\nClass 2 recall = 0.7368333333333333\n\nClass 3 precision = 0.6300940438871473\nClass 3 recall = 0.9045\n\nClass 4 precision = 0.502821236214414\nClass 4 recall = 0.6535\n\nClass 5 precision = 0.9475570647047726\nClass 5 recall = 0.8371666666666666\n\nClass 6 precision = 0.5515151515151515\nClass 6 recall = 0.015166666666666667\n\nClass 7 precision = 0.8276503409795413\nClass 7 recall = 0.89\n\nClass 8 precision = 0.9091202062520142\nClass 8 recall = 0.9403333333333334\n\nClass 9 precision = 0.8861473955813578\nClass 9 recall = 0.9158333333333334\n\nWeighted recall = 0.7556\nWeighted precision = 0.7567197246777154\nWeighted F(1) Score = 0.7255097338571947\nWeighted F(0.5) Score = 0.715749883100119\nWeighted false positive rate = 0.027155555555555558\n"
    }
   ],
   "source": [
    "print_metrics(train_metrics, labels)"
   ]
  },
  {
   "cell_type": "code",
   "execution_count": 27,
   "metadata": {
    "tags": []
   },
   "outputs": [],
   "source": [
    "test_prediction_labels = prediction_test.select(\"prediction\", \"label\").rdd\n",
    "test_metrics = MulticlassMetrics(test_prediction_labels)"
   ]
  },
  {
   "cell_type": "code",
   "execution_count": 28,
   "metadata": {
    "tags": []
   },
   "outputs": [
    {
     "output_type": "stream",
     "name": "stdout",
     "text": "Class 0 precision = 0.7361376673040153\nClass 0 recall = 0.77\n\nClass 1 precision = 0.9720982142857143\nClass 1 recall = 0.871\n\nClass 2 precision = 0.6097763048881525\nClass 2 recall = 0.736\n\nClass 3 precision = 0.6194690265486725\nClass 3 recall = 0.91\n\nClass 4 precision = 0.5173978819969742\nClass 4 recall = 0.684\n\nClass 5 precision = 0.9405714285714286\nClass 5 recall = 0.823\n\nClass 6 precision = 0.5909090909090909\nClass 6 recall = 0.013\n\nClass 7 precision = 0.8074074074074075\nClass 7 recall = 0.872\n\nClass 8 precision = 0.9010566762728146\nClass 8 recall = 0.938\n\nClass 9 precision = 0.8646833013435701\nClass 9 recall = 0.901\n\nWeighted recall = 0.7518\nWeighted precision = 0.755950699952784\nWeighted F(1) Score = 0.7208115071290307\nWeighted F(0.5) Score = 0.7103420077976154\nWeighted false positive rate = 0.027577777777777777\n"
    }
   ],
   "source": [
    "print_metrics(test_metrics, labels)"
   ]
  },
  {
   "cell_type": "code",
   "execution_count": null,
   "metadata": {},
   "outputs": [],
   "source": []
  }
 ]
}